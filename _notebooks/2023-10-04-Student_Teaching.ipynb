{
 "cells": [
  {
   "cell_type": "code",
   "execution_count": null,
   "metadata": {},
   "outputs": [],
   "source": []
  },
  {
   "cell_type": "markdown",
   "metadata": {},
   "source": [
    "## 3.3 to 3.4: Algorithms"
   ]
  },
  {
   "cell_type": "markdown",
   "metadata": {},
   "source": [
    "## 3.3: Mathematical expressions:  \n",
    "Algorithm: a finite set of instructions that accomplish a specific task.\n",
    "Ex: when you go to bake cookies you use specific steps\n",
    "Getting ready in the morning: shirt, pants, breakfast\n",
    "Algorithm is like a list of steps that occur in a specific/particular order. \n",
    "Sequencing: things are done in order\n",
    "Selection\n",
    "Iteration \n",
    "Selection: do first step, make decision(yes or no), step true or false( if or else) \n",
    "Iteration/repetition→ First step, second step, continue condition, Yes or no, step to do if true\n",
    "Ways to write algorithm: flow chart(use arrows to tell decision)\n",
    "Pseudo code→ fake code. writing . verbal instructions/comments on what each section is doing. "
   ]
  },
  {
   "cell_type": "markdown",
   "metadata": {},
   "source": [
    "# Popcorn Hack #1\n",
    "<span style=\"color:turquoise\">\n"
   ]
  },
  {
   "cell_type": "markdown",
   "metadata": {},
   "source": [
    "Addition: a + b\n",
    "Subtraction: a - b\n",
    "Multiplication: a * b\n",
    "Division: a / b\n",
    "Modulus (remainder of a/b): a MOD b\n",
    "For python it is %\n",
    "Math in order of operations \n",
    "MOD is held to the value of multiplication + division in PEMDAS"
   ]
  },
  {
   "cell_type": "code",
   "execution_count": 1,
   "metadata": {},
   "outputs": [
    {
     "name": "stdout",
     "output_type": "stream",
     "text": [
      "32.5\n"
     ]
    }
   ],
   "source": [
    "num1 = 40\n",
    "num2 = num1 / 2\n",
    "num3 = 5 * num2 + 3\n",
    "result = num2 % 3 * num1 + 4 - num3 / 2\n",
    "print (result)"
   ]
  },
  {
   "cell_type": "markdown",
   "metadata": {},
   "source": [
    "## Popcorn hack #2\n",
    "<span style=\"color:turquoise\">\n",
    "What will the code below print?\n",
    "</span>"
   ]
  },
  {
   "cell_type": "code",
   "execution_count": null,
   "metadata": {},
   "outputs": [],
   "source": [
    "num1 = 20\n",
    "num2 = num1 /2 \n",
    "num3 = num2 * 10 + 3\n",
    "print(num3)"
   ]
  },
  {
   "cell_type": "markdown",
   "metadata": {},
   "source": [
    "## Popcorn hack #3:\n",
    "<span style=\"color:turquoise\">\n",
    "Write a code that can add, subtract, multiply, divide, and MOD numbers. Try adding them in the same line and seeing what they do. Try adding variables to your hack #2. \n",
    "</Span>"
   ]
  },
  {
   "cell_type": "markdown",
   "metadata": {},
   "source": [
    "## 3.4: Strings\n",
    "Strings are ordered sequence of characters (characters = numbers, letters, even space)\n",
    "Substring is part of an existing string \n",
    "Some procedures exist that can be used with strings, each language has its own functions\n",
    "len (str)\n",
    "Returns the number of characters in the string"
   ]
  },
  {
   "cell_type": "code",
   "execution_count": 2,
   "metadata": {},
   "outputs": [
    {
     "data": {
      "text/plain": [
       "5"
      ]
     },
     "execution_count": 2,
     "metadata": {},
     "output_type": "execute_result"
    }
   ],
   "source": [
    "len (\"APCSP\")"
   ]
  },
  {
   "cell_type": "markdown",
   "metadata": {},
   "source": [
    "Concat\n",
    "Merges both strings together, returns it so that they are one word "
   ]
  },
  {
   "cell_type": "code",
   "execution_count": 3,
   "metadata": {},
   "outputs": [
    {
     "name": "stdout",
     "output_type": "stream",
     "text": [
      "APCSP\n"
     ]
    }
   ],
   "source": [
    "concat = \"AP\" + \"CSP\"\n",
    "# Concat is simply a variable\n",
    "print(concat)"
   ]
  },
  {
   "cell_type": "markdown",
   "metadata": {},
   "source": [
    "## Popcorn hack #4: \n",
    "<span style=\"color:turquoise\">\n",
    "Find the number of characters in your last name using len. Use concat to merge your first and last name together. Use Substring to show only the 3rd to 6th characters. \n",
    "</span>"
   ]
  },
  {
   "cell_type": "code",
   "execution_count": 4,
   "metadata": {},
   "outputs": [
    {
     "name": "stdout",
     "output_type": "stream",
     "text": [
      "9\n",
      "AditiBharadwaj\n",
      "itiB\n"
     ]
    }
   ],
   "source": [
    "#Find the number of characters in your last name using len.\n",
    "length = len(\"Bharadwaj\")\n",
    "print(length)\n",
    "\n",
    "\n",
    "# Use concat to merge your first and last name together.\n",
    "concat = \"Aditi\" + \"Bharadwaj\"\n",
    "print (concat)\n",
    "\n",
    "\n",
    "# Use Substring to show only the 3rd to 6th characters.\n",
    "# be sure to start at 2 because it starts counting at 0\n",
    "substring = concat[2:6]\n",
    "print (substring)"
   ]
  },
  {
   "cell_type": "markdown",
   "metadata": {},
   "source": [
    "## Pseudo Code vs Python\n",
    "\n",
    "# Python\n",
    "Python is a high-level programming language. When you write an algorithm in Python, you are essentially creating a set of instructions that a computer can follow to solve a specific problem."
   ]
  },
  {
   "cell_type": "code",
   "execution_count": 5,
   "metadata": {},
   "outputs": [
    {
     "name": "stdout",
     "output_type": "stream",
     "text": [
      "Name: Aditi\n",
      "Age: 15\n"
     ]
    }
   ],
   "source": [
    "name = \"Aditi\"\n",
    "age = 15\n",
    "print(\"Name:\", name)\n",
    "print(\"Age:\", age)"
   ]
  },
  {
   "cell_type": "markdown",
   "metadata": {},
   "source": [
    "## Pseudo Code\n",
    "College Board Pseudo Code is a simplified, high-level representation of an algorithm that is designed to be easy to understand. Pseudo code uses a mixture of natural language and programming-like constructs to describe the algorithm's logic without specifying a particular programming language.\n",
    "\n",
    "OUTPUT \"Name:\", name\n",
    "OUTPUT \"Age:\", age"
   ]
  },
  {
   "cell_type": "markdown",
   "metadata": {},
   "source": [
    "Logic Gates in Python: \n",
    "AND gate, OR gate, NOT gate, NAND gate, NOR gate, XOR gate, and XNOR gate.\n",
    "\n",
    "What is a logic gate?: \n",
    "Logic gates are used in circuits to make decisions based on a combination of digital signals beign inputed. The concept of logic gates revolves around Boolean algebra as well as binary.   It is basically how zero represents the false condition and 1 represents True. Think of it as a switch where if it is at 0, the switch is turned off while if it is 1, then the lightbulb will turn on."
   ]
  },
  {
   "attachments": {
    "image.png": {
     "image/png": "[encoded data removed]"
    }
   },
   "cell_type": "markdown",
   "metadata": {},
   "source": [
    "The AND gate requires both inputs to be 1 or true so the end output is true. In other words, the output is 1 only when both inputs one AND two are 1.\n",
    "\n",
    "\n",
    "\n",
    "![](attachment:image.png)"
   ]
  },
  {
   "cell_type": "code",
   "execution_count": 8,
   "metadata": {},
   "outputs": [
    {
     "name": "stdout",
     "output_type": "stream",
     "text": [
      "15\n"
     ]
    }
   ],
   "source": [
    "age= 15\n",
    "\n",
    "if age>2 and type(age)==int:\n",
    "    print(age)\n",
    "\n",
    "age=13 \n",
    "\n",
    "if age>2 and type(age)==str:\n",
    "    print(age)"
   ]
  },
  {
   "cell_type": "markdown",
   "metadata": {},
   "source": [
    "# HW Hacks\n",
    "\n",
    "<span style=\"color:pink\">\n",
    "Use an algorithm to find certain values of the Fibonacci sequence. For example, your code should output the nth index in the sequence. An example of how the sequence works is 0,1,1,2,3,5,8,13. The pattern is you add the previous 2 numbers together to get the new number. \n",
    "</span>\n"
   ]
  }
 ],
 "metadata": {
  "kernelspec": {
   "display_name": "Python 3",
   "language": "python",
   "name": "python3"
  },
  "language_info": {
   "codemirror_mode": {
    "name": "ipython",
    "version": 3
   },
   "file_extension": ".py",
   "mimetype": "text/x-python",
   "name": "python",
   "nbconvert_exporter": "python",
   "pygments_lexer": "ipython3",
   "version": "3.11.6"
  }
 },
 "nbformat": 4,
 "nbformat_minor": 2
}
